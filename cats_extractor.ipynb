{
 "cells": [
  {
   "cell_type": "code",
   "execution_count": 1,
   "metadata": {},
   "outputs": [
    {
     "name": "stdout",
     "output_type": "stream",
     "text": [
      "Found 367 cats\n",
      "n_pages: 2598.PNG\n",
      "page: 24, row: 2, col: 0     \r"
     ]
    }
   ],
   "source": [
    "import cv2 as cv\n",
    "import os, shutil\n",
    "from os.path import join, exists\n",
    "import numpy as np\n",
    "\n",
    "CATS_DIR = 'cats'\n",
    "IMG_SIZE_PX = 750   # px\n",
    "\n",
    "# list all files in the directory\n",
    "files = sorted(os.listdir(CATS_DIR))\n",
    "\n",
    "assert all([file.endswith('.PNG') for file in files]), 'Not all files are PNGs'\n",
    "\n",
    "print(f'Found {len(files)} cats')\n",
    "\n",
    "# create a new directory for the resized images\n",
    "shutil.rmtree('cats_resized') if exists('cats_resized') else None\n",
    "os.makedirs('cats_resized')\n",
    "\n",
    "for file in files:\n",
    "    path = join(CATS_DIR, file)\n",
    "    print(path, end='\\r')\n",
    "    cat = cv.imread(path)\n",
    "\n",
    "    # start from the center of the image and find the first full black row of pixels \n",
    "    bw_cat = cv.cvtColor(cat, cv.COLOR_BGR2GRAY)\n",
    "    b_mask = (bw_cat > 50).astype('uint8')*255\n",
    "\n",
    "    #find h and w\n",
    "    h, w = b_mask.shape\n",
    "\n",
    "    b_line = b_mask.sum(axis=1) #sum the rows\n",
    "    b_line = (b_line > 0).astype('uint8')*255 #make it binary\n",
    "\n",
    "    half = b_mask.shape[0]//2 #half of the image\n",
    "    top_half = b_line[:half] \n",
    "    bottom_half = b_line[half:]\n",
    "\n",
    "    top_idx = np.where(top_half == 0)[0][-1]  #last black pixel\n",
    "    bottom_idx = np.where(bottom_half == 0)[0][0] + half #first black pixel\n",
    "    \n",
    "    #crop the image\n",
    "    hc, wc = bottom_idx - top_idx, w # height and width of the cropped cat\n",
    "    l = min(hc, wc) # side of the square\n",
    "    ch, cw = (top_idx + bottom_idx)//2, w//2 # center of the square\n",
    "    squared_cat = cat[ch-l//2:ch+l//2, cw-l//2:cw+l//2] # crop the cat\n",
    "\n",
    "    ws, hs = squared_cat.shape[:2] # width and height of the squared cat\n",
    "    assert ws == hs, f'Image is not square: {ws}x{hs}' # check if the image is square\n",
    "\n",
    "    squared_cat = cv.resize(squared_cat, (IMG_SIZE_PX, IMG_SIZE_PX)) # stadardize the size\n",
    "\n",
    "    #save the image\n",
    "    cv.imwrite(join('cats_resized', file), squared_cat)\n",
    "\n",
    "\n",
    "#######################################################################################\n",
    "CAT_DIR = 'cats_resized'\n",
    "PAGES_DIR = 'pages'\n",
    "#clear the pages directory\n",
    "shutil.rmtree(PAGES_DIR) if exists(PAGES_DIR) else None\n",
    "os.makedirs(PAGES_DIR)\n",
    "files = sorted(os.listdir(CAT_DIR))\n",
    "\n",
    "A4_H = 297.0        # mm #dont change this\n",
    "A4_W = 210.0        # mm #dont change this \n",
    "\n",
    "IMG_SIZE_MM = 50    # mm\n",
    "L_MARGIN = 19.0     # mm \n",
    "R_MARGIN = 13.2     # mm \n",
    "T_MARGIN = 36.7     # mm \n",
    "B_MARGIN = 36.7     # mm \n",
    "SEPARATION = 0.0    # mm \n",
    "\n",
    "GRID_H = 5\n",
    "GRID_W = 3\n",
    "\n",
    "pm = IMG_SIZE_PX / IMG_SIZE_MM # pixels per mm\n",
    "\n",
    "h_pix = pm*T_MARGIN + GRID_H*IMG_SIZE_PX + (GRID_H-1)*pm*SEPARATION + pm*B_MARGIN\n",
    "w_pix = pm*L_MARGIN + GRID_W*IMG_SIZE_PX + (GRID_W-1)*pm*SEPARATION + pm*R_MARGIN\n",
    "\n",
    "a4_ratio = A4_H / A4_W\n",
    "img_ratio = h_pix / w_pix\n",
    "if a4_ratio > img_ratio: nh_pix, nw_pix = int(w_pix * a4_ratio), w_pix\n",
    "else: nw_pix, nh_pix = int(h_pix / a4_ratio), h_pix\n",
    "\n",
    "h_pix, w_pix, nh_pix, nw_pix = int(h_pix), int(w_pix), int(nh_pix), int(nw_pix)\n",
    "\n",
    "grid_start_x = int((nw_pix - w_pix)/2 + pm*L_MARGIN)\n",
    "grid_start_y = int((nh_pix - h_pix)/2 + pm*T_MARGIN)\n",
    "\n",
    "n_pages = np.ceil(len(files) / (GRID_H*GRID_W)).astype('int')\n",
    "print(f'n_pages: {n_pages}')\n",
    "\n",
    "pages = [np.ones((nh_pix, nw_pix, 3), dtype='uint8')*255 for _ in range(n_pages)]\n",
    "\n",
    "for n, file in enumerate(files):\n",
    "    p = n // (GRID_H*GRID_W)\n",
    "    row, col = (n % (GRID_H*GRID_W)) // GRID_W, (n % (GRID_H*GRID_W)) % GRID_W\n",
    "    print(f'page: {p}, row: {row}, col: {col}     ', end='\\r')\n",
    "    page = np.zeros((nh_pix, nw_pix, 3), dtype='uint8')\n",
    "    x = int(grid_start_x + col*(IMG_SIZE_PX + pm*SEPARATION))\n",
    "    y = int(grid_start_y + row*(IMG_SIZE_PX + pm*SEPARATION))\n",
    "    img = cv.imread(join(CAT_DIR, file))\n",
    "    pages[p][y:y+IMG_SIZE_PX, x:x+IMG_SIZE_PX] = img\n",
    "\n",
    "for n, page in enumerate(pages):\n",
    "    cv.imwrite(join(PAGES_DIR, f'page_{n}.PNG'), page)\n"
   ]
  },
  {
   "cell_type": "code",
   "execution_count": 2,
   "metadata": {},
   "outputs": [
    {
     "name": "stdout",
     "output_type": "stream",
     "text": [
      "adding page 25/25\r"
     ]
    },
    {
     "data": {
      "text/plain": [
       "''"
      ]
     },
     "execution_count": 2,
     "metadata": {},
     "output_type": "execute_result"
    }
   ],
   "source": [
    "#convert pages to pdf\n",
    "from fpdf import FPDF\n",
    "\n",
    "PAGES_DIR = 'pages'\n",
    "PDF_DIR = 'pdf'\n",
    "\n",
    "#clear the pdf directory\n",
    "shutil.rmtree(PDF_DIR) if exists(PDF_DIR) else None\n",
    "os.makedirs(PDF_DIR)\n",
    "\n",
    "files = sorted(os.listdir(PAGES_DIR))\n",
    "files = [join(PAGES_DIR, file) for file in files]\n",
    "\n",
    "pdf = FPDF()\n",
    "for n, file in enumerate(files):\n",
    "    print(f'adding page {n+1}/{len(files)}', end='\\r')\n",
    "    pdf.add_page()\n",
    "    pdf.image(file, 0, 0, 210, 297)\n",
    "pdf.output(join(PDF_DIR, 'cats.pdf'), \"F\")"
   ]
  }
 ],
 "metadata": {
  "kernelspec": {
   "display_name": "Python 3",
   "language": "python",
   "name": "python3"
  },
  "language_info": {
   "codemirror_mode": {
    "name": "ipython",
    "version": 3
   },
   "file_extension": ".py",
   "mimetype": "text/x-python",
   "name": "python",
   "nbconvert_exporter": "python",
   "pygments_lexer": "ipython3",
   "version": "3.8.10"
  },
  "orig_nbformat": 4
 },
 "nbformat": 4,
 "nbformat_minor": 2
}
